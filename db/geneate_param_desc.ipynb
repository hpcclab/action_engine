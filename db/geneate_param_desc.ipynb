{
 "cells": [
  {
   "cell_type": "code",
   "execution_count": 16,
   "metadata": {},
   "outputs": [
    {
     "data": {
      "text/html": [
       "<div>\n",
       "<style scoped>\n",
       "    .dataframe tbody tr th:only-of-type {\n",
       "        vertical-align: middle;\n",
       "    }\n",
       "\n",
       "    .dataframe tbody tr th {\n",
       "        vertical-align: top;\n",
       "    }\n",
       "\n",
       "    .dataframe thead th {\n",
       "        text-align: right;\n",
       "    }\n",
       "</style>\n",
       "<table border=\"1\" class=\"dataframe\">\n",
       "  <thead>\n",
       "    <tr style=\"text-align: right;\">\n",
       "      <th></th>\n",
       "      <th>name</th>\n",
       "      <th>Description</th>\n",
       "      <th>input_params</th>\n",
       "      <th>output_params</th>\n",
       "      <th>format</th>\n",
       "    </tr>\n",
       "  </thead>\n",
       "  <tbody>\n",
       "    <tr>\n",
       "      <th>0</th>\n",
       "      <td>Username2ID</td>\n",
       "      <td>This API is to convert a username to a user ID.</td>\n",
       "      <td>{'user_name': {'description': 'the name of the...</td>\n",
       "      <td>{'user_ID': {'description': 'the ID of the use...</td>\n",
       "      <td>Username2ID(user_name) -&gt; user_ID</td>\n",
       "    </tr>\n",
       "    <tr>\n",
       "      <th>1</th>\n",
       "      <td>Playlistname2ID</td>\n",
       "      <td>This API is to convert a playlist name to a pl...</td>\n",
       "      <td>{'playlist_name': {'description': 'the name of...</td>\n",
       "      <td>{'playlist_ID': {'description': 'the ID of the...</td>\n",
       "      <td>Playlistname2ID(playlist_name) -&gt; playlist_ID</td>\n",
       "    </tr>\n",
       "    <tr>\n",
       "      <th>2</th>\n",
       "      <td>AddSongToPlaylist</td>\n",
       "      <td>This API is to add a song to a playlist.</td>\n",
       "      <td>{'user_ID': {'description': 'the ID of the use...</td>\n",
       "      <td>{'playlist_songs': {'description': 'a list of ...</td>\n",
       "      <td>AddSongToPlaylist(user_ID, playlist_ID, song_n...</td>\n",
       "    </tr>\n",
       "    <tr>\n",
       "      <th>3</th>\n",
       "      <td>GeoLocation2TimeZone</td>\n",
       "      <td>This API is to convert geolocation to timezone.</td>\n",
       "      <td>{'geolocation': {'description': 'the geolocati...</td>\n",
       "      <td>{'timezone': {'description': 'the timezone of ...</td>\n",
       "      <td>GeoLocation2TimeZone(geolocation) -&gt; timezone</td>\n",
       "    </tr>\n",
       "    <tr>\n",
       "      <th>4</th>\n",
       "      <td>SetAlarm</td>\n",
       "      <td>This API allows the user to set an alarm in a ...</td>\n",
       "      <td>{'timezone': {'description': 'the timezone whe...</td>\n",
       "      <td>{'alarm_status': {'description': 'the status o...</td>\n",
       "      <td>SetAlarm(timezone, time) -&gt; alarm_status</td>\n",
       "    </tr>\n",
       "  </tbody>\n",
       "</table>\n",
       "</div>"
      ],
      "text/plain": [
       "                   name                                        Description  \\\n",
       "0           Username2ID    This API is to convert a username to a user ID.   \n",
       "1       Playlistname2ID  This API is to convert a playlist name to a pl...   \n",
       "2     AddSongToPlaylist           This API is to add a song to a playlist.   \n",
       "3  GeoLocation2TimeZone    This API is to convert geolocation to timezone.   \n",
       "4              SetAlarm  This API allows the user to set an alarm in a ...   \n",
       "\n",
       "                                        input_params  \\\n",
       "0  {'user_name': {'description': 'the name of the...   \n",
       "1  {'playlist_name': {'description': 'the name of...   \n",
       "2  {'user_ID': {'description': 'the ID of the use...   \n",
       "3  {'geolocation': {'description': 'the geolocati...   \n",
       "4  {'timezone': {'description': 'the timezone whe...   \n",
       "\n",
       "                                       output_params  \\\n",
       "0  {'user_ID': {'description': 'the ID of the use...   \n",
       "1  {'playlist_ID': {'description': 'the ID of the...   \n",
       "2  {'playlist_songs': {'description': 'a list of ...   \n",
       "3  {'timezone': {'description': 'the timezone of ...   \n",
       "4  {'alarm_status': {'description': 'the status o...   \n",
       "\n",
       "                                              format  \n",
       "0                  Username2ID(user_name) -> user_ID  \n",
       "1      Playlistname2ID(playlist_name) -> playlist_ID  \n",
       "2  AddSongToPlaylist(user_ID, playlist_ID, song_n...  \n",
       "3      GeoLocation2TimeZone(geolocation) -> timezone  \n",
       "4           SetAlarm(timezone, time) -> alarm_status  "
      ]
     },
     "execution_count": 16,
     "metadata": {},
     "output_type": "execute_result"
    }
   ],
   "source": [
    "import pandas as pd\n",
    "import numpy as np\n",
    "from pprint import pprint\n",
    "import json\n",
    "\n",
    "path = \"/home/cc/AutomaticWorkflowGeneration/ActionEngine/db/api_info/reversechain_apis.json\"\n",
    "df = pd.read_json(path)\n",
    "\n",
    "# Read the JSON file\n",
    "with open(path, \"r\") as json_file:\n",
    "    data = json.load(json_file)  \n",
    "df.head()"
   ]
  },
  {
   "cell_type": "code",
   "execution_count": 17,
   "metadata": {},
   "outputs": [
    {
     "name": "stdout",
     "output_type": "stream",
     "text": [
      "{'Id': 8,\n",
      " 'description': 'This API takes a user prompt and generates an image in pastel '\n",
      "                'art style. It loads a pre-trained model for pastel art '\n",
      "                'generation and processes the user prompt to create the image. '\n",
      "                'The generated image is returned in the form of a PNG file.',\n",
      " 'input_description': 'The input parameter for this API is a user prompt in '\n",
      "                      'string data type.',\n",
      " 'input_parameters_with_datatype': [{'datatype': 'string',\n",
      "                                     'description': '...',\n",
      "                                     'name': 'prompt'}],\n",
      " 'method': 'POST',\n",
      " 'name': 'tti_Pastel_Art',\n",
      " 'output description': 'Generated image in png file format',\n",
      " 'output_data_type': 'binary_image_file',\n",
      " 'source_code': '...',\n",
      " 'summary': '...',\n",
      " 'url': None}\n",
      "\n",
      "dict_keys(['Id', 'name', 'input_parameters_with_datatype', 'input_description', 'output_data_type', 'output description', 'description', 'method', 'url', 'summary', 'source_code'])\n"
     ]
    }
   ],
   "source": [
    "target_data = {\"Id\":8,\"name\":\"tti_Pastel_Art\",\"input_parameters_with_datatype\":[{\"name\":\"prompt\",\"datatype\":\"string\",\"description\":\"...\"}],\"input_description\":\"The input parameter for this API is a user prompt in string data type.\",\"output_data_type\":\"binary_image_file\",\"output description\":\"Generated image in png file format\",\"description\":\"This API takes a user prompt and generates an image in pastel art style. It loads a pre-trained model for pastel art generation and processes the user prompt to create the image. The generated image is returned in the form of a PNG file.\",\"method\":\"POST\",\"url\":None,\"summary\":\"...\",\"source_code\":\"...\"}\n",
    "pprint(target_data)\n",
    "print()\n",
    "pprint(target_data.keys())"
   ]
  },
  {
   "cell_type": "code",
   "execution_count": 18,
   "metadata": {},
   "outputs": [
    {
     "data": {
      "text/plain": [
       "{'name': 'Username2ID',\n",
       " 'Description': 'This API is to convert a username to a user ID.',\n",
       " 'input_params': {'user_name': {'description': 'the name of the user',\n",
       "   'type': 'String'}},\n",
       " 'output_params': {'user_ID': {'description': 'the ID of the user',\n",
       "   'type': 'Integer'}},\n",
       " 'format': 'Username2ID(user_name) -> user_ID'}"
      ]
     },
     "execution_count": 18,
     "metadata": {},
     "output_type": "execute_result"
    }
   ],
   "source": [
    "data[0]"
   ]
  },
  {
   "cell_type": "code",
   "execution_count": 20,
   "metadata": {},
   "outputs": [
    {
     "name": "stdout",
     "output_type": "stream",
     "text": [
      "Item 27 ('RetrieveUserInfo') has more than one 'output_param': {'Age': {'description': 'the age of the person', 'type': 'Integer'}, 'Weight': {'description': 'the weight of the person', 'type': 'Float'}}\n",
      "Item 243 ('GetLocationCoordinates') has more than one 'output_param': {'latitude': {'description': 'the latitude coordinate of the city', 'type': 'Float'}, 'longitude': {'description': 'the longitude coordinate of the city', 'type': 'Float'}}\n",
      "Item 550 ('GetCityLocation') has more than one 'output_param': {'latitude': {'description': 'the latitude of the city', 'type': 'Float'}, 'longitude': {'description': 'the longitude of the city', 'type': 'Float'}}\n",
      "Number of items with more than one 'output_param': 3\n"
     ]
    }
   ],
   "source": [
    "# Check if any 'output_params' contains more than one item\n",
    "for idx, item in enumerate(data):\n",
    "    output_params = item.get('output_params', {})\n",
    "    if len(output_params) > 1:\n",
    "        print(f\"Item {idx} ('{item['name']}') has more than one 'output_param': {output_params}\")\n",
    "\n",
    "# Count how many items have more than one 'output_param'\n",
    "count = sum(1 for item in data if len(item.get('output_params', {})) > 1)\n",
    "print(f\"Number of items with more than one 'output_param': {count}\")"
   ]
  },
  {
   "cell_type": "code",
   "execution_count": 11,
   "metadata": {},
   "outputs": [],
   "source": [
    "for i in range(len(data)):\n",
    "    data[i][\"Id\"] = i+1\n",
    "    # Description -> description\n",
    "    data[i][\"description\"] = data[i][\"Description\"]\n",
    "    # Add entire api information summary using LLM if necesary\n",
    "    data[i][\"summary\"] = data[i]['Description']\n",
    "    data[i].pop(\"Description\", None) \n",
    "    \n",
    "    # input_params -> input_parameters_with_datatype (datatype, name, description)\n",
    "    input_parameters_with_datatype = []\n",
    "    for key, value in data[i]['input_params'].items():\n",
    "        transformed_item = {\n",
    "            \"name\": key,\n",
    "            \"description\": value['description'],\n",
    "            \"datatype\": value['type']\n",
    "        }\n",
    "        input_parameters_with_datatype.append(transformed_item)\n",
    "    data[i][\"input_parameters_with_datatype\"] = input_parameters_with_datatype\n",
    "    data[i].pop(\"input_params\", None) \n",
    "\n",
    "    # output_params -> output_parameters_with_datatype (datatype, name, description)\n",
    "    output_parameters_with_datatype = []\n",
    "    for key, value in data[i]['output_params'].items():\n",
    "        transformed_item = {\n",
    "            \"name\": key,\n",
    "            \"description\": value['description'],\n",
    "            \"datatype\": value['type']\n",
    "        }\n",
    "        output_parameters_with_datatype.append(transformed_item)\n",
    "    data[i][\"output_parameters_with_datatype\"] = output_parameters_with_datatype\n",
    "    data[i].pop(\"output_params\", None) \n",
    "\n",
    "    #Add non existent key values\n",
    "    data[i][\"url\"] = None\n",
    "    data[i][\"method\"] = None\n",
    "\n"
   ]
  },
  {
   "cell_type": "code",
   "execution_count": 12,
   "metadata": {},
   "outputs": [
    {
     "data": {
      "text/plain": [
       "{'name': 'Username2ID',\n",
       " 'format': 'Username2ID(user_name) -> user_ID',\n",
       " 'Id': 1,\n",
       " 'description': 'This API is to convert a username to a user ID.',\n",
       " 'summary': 'This API is to convert a username to a user ID.',\n",
       " 'input_parameters_with_datatype': [{'name': 'user_name',\n",
       "   'description': 'the name of the user',\n",
       "   'datatype': 'String'}],\n",
       " 'output_parameters_with_datatype': [{'name': 'user_ID',\n",
       "   'description': 'the ID of the user',\n",
       "   'datatype': 'Integer'}],\n",
       " 'url': None,\n",
       " 'method': None}"
      ]
     },
     "execution_count": 12,
     "metadata": {},
     "output_type": "execute_result"
    }
   ],
   "source": [
    "data[0]"
   ]
  },
  {
   "cell_type": "code",
   "execution_count": null,
   "metadata": {},
   "outputs": [
    {
     "data": {
      "text/plain": [
       "{'user_name': {'description': 'the name of the user', 'type': 'String'}}"
      ]
     },
     "execution_count": 17,
     "metadata": {},
     "output_type": "execute_result"
    }
   ],
   "source": [
    "Description -> description\n",
    " input_params -> input_parameters_with_datatype (datatype, name, description)\n",
    "\n",
    " output_params[f\"{name}\"]['description']->'output description': '',\n",
    " output_params[f\"{name}\"]['type'] ->'output_data_type': 'binary_image_file',\n",
    " ->'summary': '...',\n",
    " ->'url': None\n",
    "-> method': 'POST',\n",
    " -> input_description\n"
   ]
  },
  {
   "cell_type": "code",
   "execution_count": 14,
   "metadata": {},
   "outputs": [
    {
     "name": "stdout",
     "output_type": "stream",
     "text": [
      "Data saved to /home/cc/AutomaticWorkflowGeneration/ActionEngine/db/api_info/api_information.csv\n",
      "Data saved to api_information.json\n"
     ]
    }
   ],
   "source": [
    "import csv\n",
    "# Specify the file path\n",
    "dir_path = \"/home/cc/AutomaticWorkflowGeneration/ActionEngine/db/api_info/\"\n",
    "csv_file_path = \"api_information.csv\"\n",
    "\n",
    "# Save the list of dictionaries as a CSV file\n",
    "with open(dir_path + csv_file_path, mode='w', newline='', encoding='utf-8') as file:\n",
    "    writer = csv.DictWriter(file, fieldnames=data[0].keys())\n",
    "    writer.writeheader()\n",
    "    writer.writerows(data)\n",
    "\n",
    "print(f\"Data saved to {dir_path+csv_file_path}\")\n",
    "\n",
    "import json\n",
    "\n",
    "# Specify the file path\n",
    "json_file_path = \"api_information.json\"\n",
    "\n",
    "# Save the list of dictionaries as a JSON file\n",
    "with open(dir_path+json_file_path, mode='w', encoding='utf-8') as file:\n",
    "    json.dump(data, file, ensure_ascii=False, indent=4)\n",
    "\n",
    "print(f\"Data saved to {json_file_path}\")\n",
    "\n"
   ]
  },
  {
   "cell_type": "code",
   "execution_count": 31,
   "metadata": {},
   "outputs": [],
   "source": [
    "import openai\n",
    "import os\n",
    "from dotenv import load_dotenv\n",
    "\n",
    "from langchain.utils.openai_functions import convert_pydantic_to_openai_function\n",
    "from langchain.prompts import ChatPromptTemplate\n",
    "from langchain.chat_models import ChatOpenAI\n",
    "from langchain.output_parsers.openai_functions import JsonOutputFunctionsParser\n",
    "from langchain.output_parsers.openai_functions import JsonKeyOutputFunctionsParser\n",
    "\n",
    "load_dotenv()\n",
    "model = ChatOpenAI(\n",
    "  temperature=0,\n",
    "  api_key=os.getenv(\"OPENAI_API_KEY\"),\n",
    ")\n",
    "# invoke gpt Function\n",
    "def call_llm(pydantic_schema, schema_name: str, system_prompt: str, user_prompt: str):\n",
    "\n",
    "    prompt = ChatPromptTemplate.from_messages([\n",
    "    (\"system\", system_prompt),\n",
    "    (\"human\", user_prompt)\n",
    "    ])\n",
    "    extraction_functions = [convert_pydantic_to_openai_function(pydantic_schema)]\n",
    "    extraction_model = model.bind(functions=extraction_functions, function_call={\"name\": schema_name})\n",
    "    extraction_chain = prompt | extraction_model | JsonOutputFunctionsParser()\n",
    "    response = extraction_chain.invoke({})\n",
    "\n",
    "    return response"
   ]
  },
  {
   "cell_type": "code",
   "execution_count": null,
   "metadata": {},
   "outputs": [
    {
     "name": "stderr",
     "output_type": "stream",
     "text": [
      "/home/cc/miniconda3/envs/ml/lib/python3.10/site-packages/langchain_core/_api/deprecation.py:139: LangChainDeprecationWarning: The function `convert_pydantic_to_openai_function` was deprecated in LangChain 0.1.16 and will be removed in 0.3.0. Use langchain_core.utils.function_calling.convert_to_openai_function() instead.\n",
      "  warn_deprecated(\n"
     ]
    },
    {
     "name": "stdout",
     "output_type": "stream",
     "text": [
      "{'name': 'prompt', 'datatype': 'string', 'description': \"The 'prompt' parameter is a user prompt in string data type. It is required for providing descriptive content or themes for the image generation process in the 'tti_Animation_Art' API. This parameter serves as the textual input that will be transformed into vibrant animation-style images by the API's pre-trained model.\"}\n",
      "{'name': 'prompt', 'datatype': 'string', 'description': \"The 'prompt' parameter is a user prompt in string data type. It is required for the API to generate a visually engaging charcoal art style image based on the content or theme specified by the user. The prompt serves as the input text that will be transformed into a unique charcoal art representation by the API.\"}\n",
      "{'name': 'prompt', 'datatype': 'string', 'description': \"The 'prompt' parameter is a user prompt in string data type, which serves as the input for this API. It describes the desired content or concept for the digital artwork generation process. The prompt is essential for guiding the model in creating visually striking digital art images based on the user's input, enabling users to convert their ideas into unique digital artworks.\"}\n",
      "{'name': 'prompt', 'datatype': 'string', 'description': \"The 'prompt' parameter is a user prompt in string data type. It is required for the API to generate visually captivating images inspired by Futuristic art. The prompt serves as the input text that will be processed by a pre-trained model to create artwork embodying Futuristic art aesthetics. This parameter is essential for users to provide the specific textual content that will be transformed into a Futuristic art-themed visual representation.\"}\n",
      "{'name': 'prompt', 'datatype': 'string', 'description': \"The 'prompt' parameter is a user-provided textual prompt in string data type. It serves as the input for the 'tti_Graffiti_Art' API, allowing users to input their creative ideas or prompts to generate graffiti-style images. This parameter is essential for the API to transform the user's textual input into visually appealing graffiti art.\"}\n",
      "{'name': 'prompt', 'datatype': 'string', 'description': \"The prompt parameter is a user-provided text input in string format that serves as the basis for generating a mosaic art style image. It is essential for triggering the creation of visually striking mosaic compositions based on the user's initial idea or concept.\"}\n",
      "{'name': 'prompt', 'datatype': 'string', 'description': \"The 'prompt' parameter is a user prompt in string data type. It is required for the 'tti_Painting_Art' API to receive input from users in the form of a textual description of their desired artistic content or theme. This prompt is essential for the API to generate a unique painting art style image based on the user's input, allowing users to visually express their creative ideas through the conversion of text to artwork.\"}\n",
      "{'name': 'prompt', 'datatype': 'string', 'description': 'The prompt parameter is a string data type that serves as a user input to guide the generation of a unique pastel art piece using a pre-trained model specialized for the pastel art style. It is essential for users to provide a creative prompt that influences the artistic output of the API, allowing them to translate their ideas into visually appealing pastel art images.'}\n",
      "{'name': 'prompt', 'datatype': 'string', 'description': \"The 'prompt' parameter is a user-provided textual prompt in string format that serves as the input for generating artistic sketching images. It is essential for guiding the AI model to create visually striking sketching art style images based on the user's creative input.\"}\n",
      "{'name': 'prompt', 'datatype': 'string', 'description': \"The 'prompt' parameter is a user prompt in string data type. It is required for the API to generate visually captivating images resembling the traditional Japanese ukiyo-e art style. The prompt should be enriched by appending 'Japanese Ukiyo e-style picture:' to guide the image creation process, as specified in the function description.\"}\n",
      "{'name': 'file', 'datatype': 'binary_image_file', 'description': \"The 'file' parameter should be a binary image file in one of the supported formats: JPEG, PNG, GIF, BMP, TIFF, PBM, PGM, or PPM. This parameter is required for the 'image_to_pdf_conversion' API to receive the input image file that will be converted to a PDF document. The API processes the provided image file and generates a PDF output, enabling users to efficiently transform visual content into a universally accessible format for sharing, printing, or archiving purposes.\"}\n",
      "{'name': 'width', 'datatype': 'int', 'description': \"The 'width' parameter specifies the desired width dimension for resizing the user-uploaded image file. This parameter is essential for determining the new width of the image during the resizing process. It plays a crucial role in adjusting the dimensions of the image according to user requirements, ensuring the output meets the specified width criteria for the resized image.\"}\n",
      "{'name': 'height', 'datatype': 'int', 'description': \"The height parameter specifies the desired height dimension for resizing the user-uploaded image file. This parameter is essential for determining the final dimensions of the resized image, ensuring that the output meets the user's requirements for image size adjustments.\"}\n",
      "{'name': 'file', 'datatype': 'binary_image_file', 'description': \"The 'file' parameter of datatype 'binary_image_file' is required for this API as it serves as the input containing the image file uploaded by the user. This parameter is essential for the 'Image_Resizing' API to receive the binary form of the image file, enabling the resizing process to be carried out on the user-provided visual content.\"}\n",
      "{'name': 'file', 'datatype': 'binary_image_file', 'description': 'A single image file in supported formats (.bmp .jpeg .png etc.) required for enhancing the quality of the image by applying denoising, contrast stretching, sharpening, brightness adjustment, and gamma correction techniques to improve its visual quality.'}\n",
      "{'name': 'sender_address', 'datatype': 'string', 'description': \"The sender's email address is required to specify the email sender when using the 'send_email' API. This parameter ensures that the email is sent from the correct sender's address, allowing for proper identification and communication between the sender and the receiver.\"}\n",
      "{'name': 'receiver_address', 'datatype': 'string', 'description': \"The receiver_address parameter is a string datatype that represents the email address of the recipient to whom the email will be sent. This parameter is required for the 'send_email' API to specify the destination of the email communication.\"}\n",
      "{'name': 'message_text', 'datatype': 'string', 'description': \"The 'message_text' parameter is a string datatype that represents the content of the email message. It is a required input for the 'send_email' API as it contains the main body of the email that will be sent to the recipient. The message_text parameter allows users to input the text content of the email message, enabling effective communication and information sharing through the email service.\"}\n",
      "{'name': 'message_subject', 'datatype': 'string', 'description': \"The 'message_subject' parameter is a string datatype that represents the subject line of the email message. It is a required input for the 'send_email' API function as it provides essential context and information about the content of the email being sent. Including a subject line helps recipients quickly understand the purpose or topic of the email, enhancing communication efficiency and clarity during email correspondence.\"}\n",
      "{'name': 'file', 'datatype': 'binary_image_file', 'description': \"The 'file' parameter is required to attach an image, audio, or any generic file in binary format to the email message being sent. This parameter allows users to include additional files along with the email content, enhancing the communication experience and enabling file sharing through the 'send_email' API.\"}\n",
      "{'name': 'file', 'datatype': 'binary_image_file', 'description': \"The 'file' parameter is a binary_image_file that represents the image file to be uploaded and converted to a specified format. This parameter is required for the 'convert_image' function to receive the input image file for processing and conversion. The function reads the contents of the uploaded file, opens it using the PIL library, saves it in the desired format, and returns the converted image file as a response. The 'file' parameter plays a crucial role in the image conversion process within the 'image_format_converter' function.\"}\n",
      "{'name': 'output_format', 'datatype': 'string', 'description': \"The 'output_format' parameter specifies the desired image format to which the uploaded image should be converted. It is a string datatype representing the file format such as JPEG, PNG, GIF, BMP, TIFF, PBM, PGM, PPM, or JPG. This parameter is essential for the 'image_format_converter' function to determine the output format for the converted image file.\"}\n"
     ]
    }
   ],
   "source": [
    "from pydantic import BaseModel, Field\n",
    "from typing import List\n",
    "\n",
    "class Summary(BaseModel):\n",
    "    summary: str = Field(description=\"A detailed summary of a API\")\n",
    "\n",
    "def escape_json(text: str) -> str:\n",
    "    return text.replace('{', '{{').replace('}', '}}')\n",
    "\n",
    "\n",
    "SYSTEMPROMPT = \"\"\"\n",
    "You will be given the details about an API, your job is to generate a one-paragraph summary of the API.\n",
    "The summary must include the functionarity of API, method of the API, input parameters' datatype and description, and output parameter's datatype and description.\n",
    "\"\"\"\n",
    "\n",
    "USERPROMPT = f\"\"\"\n",
    "{data[i]}\n",
    "\"\"\"\n",
    "param_desc = call_llm(Summary, \"Summary\", escape_json(SYSTEMPROMPT), escape_json(USERPROMPT))\n",
    "data[i][\"summary\"] = param_desc[\"summary\"]\n"
   ]
  },
  {
   "cell_type": "code",
   "execution_count": null,
   "metadata": {},
   "outputs": [],
   "source": [
    "# save\n",
    "df.to_csv(path + \"api_information.csv\", index=False)\n",
    "df.to_json(path + \"api_information.json\", orient='records', lines=True)"
   ]
  }
 ],
 "metadata": {
  "kernelspec": {
   "display_name": "ml",
   "language": "python",
   "name": "python3"
  },
  "language_info": {
   "codemirror_mode": {
    "name": "ipython",
    "version": 3
   },
   "file_extension": ".py",
   "mimetype": "text/x-python",
   "name": "python",
   "nbconvert_exporter": "python",
   "pygments_lexer": "ipython3",
   "version": "3.11.10"
  }
 },
 "nbformat": 4,
 "nbformat_minor": 4
}

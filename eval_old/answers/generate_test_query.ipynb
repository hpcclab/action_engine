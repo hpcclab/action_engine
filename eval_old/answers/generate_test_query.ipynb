{
 "cells": [
  {
   "cell_type": "code",
   "execution_count": 1,
   "metadata": {},
   "outputs": [],
   "source": [
    "import pandas as pd\n",
    "import ast\n",
    "import json"
   ]
  },
  {
   "cell_type": "code",
   "execution_count": 2,
   "metadata": {},
   "outputs": [
    {
     "name": "stderr",
     "output_type": "stream",
     "text": [
      "/home/cc/miniconda3/envs/ml/lib/python3.10/site-packages/langchain_core/_api/deprecation.py:141: LangChainDeprecationWarning: The class `ChatOpenAI` was deprecated in LangChain 0.0.10 and will be removed in 0.3.0. An updated version of the class exists in the langchain-openai package and should be used instead. To use it run `pip install -U langchain-openai` and import as `from langchain_openai import ChatOpenAI`.\n",
      "  warn_deprecated(\n"
     ]
    }
   ],
   "source": [
    "import openai\n",
    "from dotenv import load_dotenv\n",
    "\n",
    "from langchain.utils.openai_functions import convert_pydantic_to_openai_function\n",
    "from langchain.prompts import ChatPromptTemplate\n",
    "from langchain.chat_models import ChatOpenAI\n",
    "from langchain.output_parsers.openai_functions import JsonOutputFunctionsParser\n",
    "from langchain.output_parsers.openai_functions import JsonKeyOutputFunctionsParser\n",
    "\n",
    "import sys\n",
    "import os\n",
    "from pathlib import Path\n",
    "import openai\n",
    "from dotenv import load_dotenv\n",
    "try:\n",
    "    # If running as a script, use __file__ to find the directory\n",
    "    __file__\n",
    "    base_path = os.path.dirname(os.path.dirname(os.path.dirname(__file__)))\n",
    "    sys.path.append(base_path)\n",
    "except NameError:\n",
    "    # If running in an interactive environment (e.g., Jupyter Notebook)\n",
    "    base_path = Path().resolve().parent.parent\n",
    "    sys.path.append(str(base_path))\n",
    "  \n",
    "load_dotenv()\n",
    "model=\"gpt-4o\"\n",
    "\n",
    "from utils.llm import call_llm\n",
    "# local\n",
    "# filepath = \"/home/UNT/ae0589/Desktop/HPCC/AutomaticWorkflowGeneration/ActionEngine/db/api_info/\"\n",
    "\n",
    "# Cloud\n",
    "filepath = \"/home/cc/AutomaticWorkflowGeneration/ActionEngine/db/api_info/\"\n",
    "\n",
    "\n",
    "filename = filepath + 'api_information.json'\n",
    "\n",
    "def read_json_to_dict(filename):\n",
    "    api_info = []\n",
    "    with open(filename, 'r') as file:\n",
    "        for line in file:\n",
    "            api_info.append(json.loads(line))\n",
    "\n",
    "    return api_info\n",
    "\n",
    "def escape_json(text: str) -> str:\n",
    "    return text.replace('{', '{{').replace('}', '}}')\n",
    "\n",
    "api_info = read_json_to_dict(filename)\n",
    "# Extract specific fields\n",
    "extracted_data = [\n",
    "    {\n",
    "        'name': item['name'],\n",
    "        'summary': item['summary']\n",
    "    }\n",
    "    for item in api_info\n",
    "]\n",
    "\n",
    "from pydantic import BaseModel, Field\n",
    "from typing import List\n",
    "class API(BaseModel):\n",
    "    name: str = Field(description=\"Name of the API that is used in the generated user request\")\n",
    "    parameters: List[str] = Field(description=\"List of required parameters for the selected API\")\n",
    "\n",
    "class Data(BaseModel):\n",
    "    id: int = Field(description=\"Id number for the information\")\n",
    "    user_request: str = Field(description=\"The user request that is going to require to use 2 API\")\n",
    "    selected_apis: List[API] = Field(description=\"List of APIs and their parameters used in the generated user request\")\n",
    "\n",
    "class TestData(BaseModel):\n",
    "    test_data: List[Data] = Field(description=\"List of user requests and those related parameters\")\n",
    "\n",
    "api_info = read_json_to_dict(filename)\n"
   ]
  },
  {
   "cell_type": "markdown",
   "metadata": {},
   "source": [
    "## Generate 1-2 Easy Dataset"
   ]
  },
  {
   "cell_type": "markdown",
   "metadata": {},
   "source": [
    "### Generate 2 nodes output"
   ]
  },
  {
   "cell_type": "code",
   "execution_count": 12,
   "metadata": {},
   "outputs": [
    {
     "data": {
      "text/plain": [
       "{'test_data': [{'id': 1,\n",
       "   'user_request': \"I want to create a unique animation art piece based on the theme of 'Space Exploration' and then convert the generated animation into a PDF document for sharing.\",\n",
       "   'selected_apis': [{'name': 'tti_Animation_Art', 'parameters': ['prompt']},\n",
       "    {'name': 'image_to_pdf_conversion', 'parameters': ['image_file']}]}]}"
      ]
     },
     "execution_count": 12,
     "metadata": {},
     "output_type": "execute_result"
    }
   ],
   "source": [
    "\n",
    "SYSTEM_PROMPT = '''\n",
    "    Let's think step by step. You will be given list of API information.\n",
    "    Please generate 5 different user request that is going to require to use 2 API, and extract the user request, selected APIs, and each required parameter for those selected APIs.\n",
    "    Below is just an example be creative and make sure to use different APIs to make these data varieties like send_email too. \n",
    "    Output Example\n",
    "    {\n",
    "        user_request: \"I have a creative project where I need to generate a unique image in a charcoal art style based on a specific theme and then resize the generated image to specific dimensions for a digital presentation. The theme for the image is 'A serene sunset over a quiet village'. After the image is generated, I need it to be resized to a width of 1920 pixels and a height of 1080 pixels.\"\n",
    "        selected_apis:[\n",
    "            [\n",
    "                \"name\": \"tti_Charcoal_Art\"\n",
    "                \"parameters\": [\"prompt\"]\n",
    "            ],\n",
    "            [\n",
    "                \"name\": \"tti_Charcoal_Art\"\n",
    "                \"parameters\": [\"image_file\", \"width\", \"height\"]\n",
    "            ]\n",
    "\n",
    "    },\n",
    "\n",
    "    '''\n",
    "\n",
    "USER_PROMPT = f\"\"\"\n",
    "        API_information: {extracted_data}\n",
    "    \"\"\"\n",
    "response = call_llm(TestData, \"TestData\" ,escape_json(SYSTEM_PROMPT), escape_json(USER_PROMPT))\n",
    "response"
   ]
  },
  {
   "cell_type": "code",
   "execution_count": 45,
   "metadata": {},
   "outputs": [],
   "source": [
    "inter_list = {\"test_data\": inter_list}\n",
    "with open('./query_answer_1-2_nodes.json', 'w') as json_file:\n",
    "    json.dump(response, json_file, indent=4)"
   ]
  },
  {
   "cell_type": "markdown",
   "metadata": {},
   "source": [
    "## Generate 3-5 nodes Inter test data"
   ]
  },
  {
   "cell_type": "code",
   "execution_count": 35,
   "metadata": {},
   "outputs": [],
   "source": [
    "# 3-5 nodes\n",
    "\n",
    "\n",
    "inter_list = []"
   ]
  },
  {
   "cell_type": "markdown",
   "metadata": {},
   "source": [
    "### 3 nodes"
   ]
  },
  {
   "cell_type": "code",
   "execution_count": 36,
   "metadata": {},
   "outputs": [
    {
     "name": "stdout",
     "output_type": "stream",
     "text": [
      "[{'test_data': [{'id': 1, 'user_request': 'I want to create a digital art piece of a futuristic cityscape, enhance its quality, and then convert it to a PDF for a presentation.', 'selected_apis': [{'name': 'tti_Digital_Art', 'parameters': ['prompt']}, {'name': 'Image_Enhancement', 'parameters': ['image_file']}, {'name': 'image_to_pdf_conversion', 'parameters': ['image_file']}]}, {'id': 2, 'user_request': 'Please generate a charcoal art image of a serene forest, resize it to 1920x1080 pixels, and convert it to a PDF for printing.', 'selected_apis': [{'name': 'tti_Charcoal_Art', 'parameters': ['prompt']}, {'name': 'Image_Resizing', 'parameters': ['image_file', 'width', 'height']}, {'name': 'image_to_pdf_conversion', 'parameters': ['image_file']}]}, {'id': 3, 'user_request': 'I need a pastel art image of a sunset over the ocean, enhance its quality, and then send it via email to my colleague.', 'selected_apis': [{'name': 'tti_Pastel_Art', 'parameters': ['prompt']}, {'name': 'Image_Enhancement', 'parameters': ['image_file']}, {'name': 'send_email', 'parameters': ['sender_email', 'receiver_email', 'subject', 'message', 'file']}]}, {'id': 4, 'user_request': 'Create a sketching art image of a bustling marketplace, convert it to a PNG format, and then resize it to 800x600 pixels for a website.', 'selected_apis': [{'name': 'tti_Sketching_Art', 'parameters': ['prompt']}, {'name': 'image_format_converter', 'parameters': ['file', 'output_format']}, {'name': 'Image_Resizing', 'parameters': ['image_file', 'width', 'height']}]}]}]\n",
      "1\n"
     ]
    }
   ],
   "source": [
    "SYSTEM_PROMPT = '''\n",
    "    Let's think step by step. You will be given list of API information.\n",
    "    Please generate 4 user request that is going to use exactly 3 APIs, and extract the user request, selected APIs, and each required parameter for those selected APIs.\n",
    "    Make sure the user request is very specific in details as if what's kind of image you want to generat and etc.\n",
    "    \n",
    "    '''\n",
    "USER_PROMPT = f\"\"\"\n",
    "        API_information: {extracted_data}\n",
    "    \"\"\"\n",
    "\n",
    "response = call_llm(TestData, \"TestData\" ,escape_json(SYSTEM_PROMPT), escape_json(USER_PROMPT))\n",
    "inter_list.append(response)\n",
    "print(inter_list)\n",
    "print(len(inter_list))"
   ]
  },
  {
   "cell_type": "markdown",
   "metadata": {},
   "source": [
    "### 4 nodes"
   ]
  },
  {
   "cell_type": "code",
   "execution_count": 37,
   "metadata": {},
   "outputs": [
    {
     "name": "stdout",
     "output_type": "stream",
     "text": [
      "[{'test_data': [{'id': 1, 'user_request': 'I want to create a digital art piece of a futuristic cityscape, enhance its quality, and then convert it to a PDF for a presentation.', 'selected_apis': [{'name': 'tti_Digital_Art', 'parameters': ['prompt']}, {'name': 'Image_Enhancement', 'parameters': ['image_file']}, {'name': 'image_to_pdf_conversion', 'parameters': ['image_file']}]}, {'id': 2, 'user_request': 'Please generate a charcoal art image of a serene forest, resize it to 1920x1080 pixels, and convert it to a PDF for printing.', 'selected_apis': [{'name': 'tti_Charcoal_Art', 'parameters': ['prompt']}, {'name': 'Image_Resizing', 'parameters': ['image_file', 'width', 'height']}, {'name': 'image_to_pdf_conversion', 'parameters': ['image_file']}]}, {'id': 3, 'user_request': 'I need a pastel art image of a sunset over the ocean, enhance its quality, and then send it via email to my colleague.', 'selected_apis': [{'name': 'tti_Pastel_Art', 'parameters': ['prompt']}, {'name': 'Image_Enhancement', 'parameters': ['image_file']}, {'name': 'send_email', 'parameters': ['sender_email', 'receiver_email', 'subject', 'message', 'file']}]}, {'id': 4, 'user_request': 'Create a sketching art image of a bustling marketplace, convert it to a PNG format, and then resize it to 800x600 pixels for a website.', 'selected_apis': [{'name': 'tti_Sketching_Art', 'parameters': ['prompt']}, {'name': 'image_format_converter', 'parameters': ['file', 'output_format']}, {'name': 'Image_Resizing', 'parameters': ['image_file', 'width', 'height']}]}]}, {'test_data': [{'id': 1, 'user_request': 'I want to create a digital art piece of a futuristic cityscape at night, then convert it to a PDF, resize it to 1920x1080 pixels, and finally enhance the image quality before sending it via email.', 'selected_apis': [{'name': 'tti_Digital_Art', 'parameters': ['prompt']}, {'name': 'image_to_pdf_conversion', 'parameters': ['image_file']}, {'name': 'Image_Resizing', 'parameters': ['image_file', 'width', 'height']}, {'name': 'Image_Enhancement', 'parameters': ['image_file']}, {'name': 'send_email', 'parameters': ['sender_email', 'receiver_email', 'message_content', 'subject', 'file']}]}, {'id': 2, 'user_request': 'I need a charcoal art image of a serene forest landscape, convert it to a PDF, resize it to 800x600 pixels, enhance its quality, and then send it to my colleague via email.', 'selected_apis': [{'name': 'tti_Charcoal_Art', 'parameters': ['prompt']}, {'name': 'image_to_pdf_conversion', 'parameters': ['image_file']}, {'name': 'Image_Resizing', 'parameters': ['image_file', 'width', 'height']}, {'name': 'Image_Enhancement', 'parameters': ['image_file']}, {'name': 'send_email', 'parameters': ['sender_email', 'receiver_email', 'message_content', 'subject', 'file']}]}, {'id': 3, 'user_request': 'Create a pastel art image of a sunset over the ocean, convert it to a PDF, resize it to 1024x768 pixels, enhance its quality, and send it to my friend via email.', 'selected_apis': [{'name': 'tti_Pastel_Art', 'parameters': ['prompt']}, {'name': 'image_to_pdf_conversion', 'parameters': ['image_file']}, {'name': 'Image_Resizing', 'parameters': ['image_file', 'width', 'height']}, {'name': 'Image_Enhancement', 'parameters': ['image_file']}, {'name': 'send_email', 'parameters': ['sender_email', 'receiver_email', 'message_content', 'subject', 'file']}]}]}]\n",
      "2\n"
     ]
    }
   ],
   "source": [
    "SYSTEM_PROMPT = '''\n",
    "    Let's think step by step. You will be given list of API information.\n",
    "    Please generate 3 user request that is going to use exactly 4 APIs, and extract the user request, selected APIs, and each required parameter for those selected APIs.\n",
    "    Make sure the user request is very specific in details as if what's kind of image you want to generat and etc.\n",
    "    '''\n",
    "USER_PROMPT = f\"\"\"\n",
    "        API_information: {extracted_data}\n",
    "    \"\"\"\n",
    "\n",
    "response = call_llm(TestData, \"TestData\" ,escape_json(SYSTEM_PROMPT), escape_json(USER_PROMPT))\n",
    "inter_list.append(response)\n",
    "print(inter_list)\n",
    "print(len(inter_list))"
   ]
  },
  {
   "cell_type": "markdown",
   "metadata": {},
   "source": [
    "### 5 nodes"
   ]
  },
  {
   "cell_type": "code",
   "execution_count": 38,
   "metadata": {},
   "outputs": [
    {
     "name": "stdout",
     "output_type": "stream",
     "text": [
      "[{'test_data': [{'id': 1, 'user_request': 'I want to create a digital art piece of a futuristic cityscape, enhance its quality, and then convert it to a PDF for a presentation.', 'selected_apis': [{'name': 'tti_Digital_Art', 'parameters': ['prompt']}, {'name': 'Image_Enhancement', 'parameters': ['image_file']}, {'name': 'image_to_pdf_conversion', 'parameters': ['image_file']}]}, {'id': 2, 'user_request': 'Please generate a charcoal art image of a serene forest, resize it to 1920x1080 pixels, and convert it to a PDF for printing.', 'selected_apis': [{'name': 'tti_Charcoal_Art', 'parameters': ['prompt']}, {'name': 'Image_Resizing', 'parameters': ['image_file', 'width', 'height']}, {'name': 'image_to_pdf_conversion', 'parameters': ['image_file']}]}, {'id': 3, 'user_request': 'I need a pastel art image of a sunset over the ocean, enhance its quality, and then send it via email to my colleague.', 'selected_apis': [{'name': 'tti_Pastel_Art', 'parameters': ['prompt']}, {'name': 'Image_Enhancement', 'parameters': ['image_file']}, {'name': 'send_email', 'parameters': ['sender_email', 'receiver_email', 'subject', 'message', 'file']}]}, {'id': 4, 'user_request': 'Create a sketching art image of a bustling marketplace, convert it to a PNG format, and then resize it to 800x600 pixels for a website.', 'selected_apis': [{'name': 'tti_Sketching_Art', 'parameters': ['prompt']}, {'name': 'image_format_converter', 'parameters': ['file', 'output_format']}, {'name': 'Image_Resizing', 'parameters': ['image_file', 'width', 'height']}]}]}, {'test_data': [{'id': 1, 'user_request': 'I want to create a digital art piece of a futuristic cityscape at night, then convert it to a PDF, resize it to 1920x1080 pixels, and finally enhance the image quality before sending it via email.', 'selected_apis': [{'name': 'tti_Digital_Art', 'parameters': ['prompt']}, {'name': 'image_to_pdf_conversion', 'parameters': ['image_file']}, {'name': 'Image_Resizing', 'parameters': ['image_file', 'width', 'height']}, {'name': 'Image_Enhancement', 'parameters': ['image_file']}, {'name': 'send_email', 'parameters': ['sender_email', 'receiver_email', 'message_content', 'subject', 'file']}]}, {'id': 2, 'user_request': 'I need a charcoal art image of a serene forest landscape, convert it to a PDF, resize it to 800x600 pixels, enhance its quality, and then send it to my colleague via email.', 'selected_apis': [{'name': 'tti_Charcoal_Art', 'parameters': ['prompt']}, {'name': 'image_to_pdf_conversion', 'parameters': ['image_file']}, {'name': 'Image_Resizing', 'parameters': ['image_file', 'width', 'height']}, {'name': 'Image_Enhancement', 'parameters': ['image_file']}, {'name': 'send_email', 'parameters': ['sender_email', 'receiver_email', 'message_content', 'subject', 'file']}]}, {'id': 3, 'user_request': 'Create a pastel art image of a sunset over the ocean, convert it to a PDF, resize it to 1024x768 pixels, enhance its quality, and send it to my friend via email.', 'selected_apis': [{'name': 'tti_Pastel_Art', 'parameters': ['prompt']}, {'name': 'image_to_pdf_conversion', 'parameters': ['image_file']}, {'name': 'Image_Resizing', 'parameters': ['image_file', 'width', 'height']}, {'name': 'Image_Enhancement', 'parameters': ['image_file']}, {'name': 'send_email', 'parameters': ['sender_email', 'receiver_email', 'message_content', 'subject', 'file']}]}]}, {'test_data': [{'id': 1, 'user_request': 'I want to create a digital art piece of a futuristic cityscape at night, with neon lights and flying cars. Then, convert this image into a PDF, resize it to 1920x1080 pixels, enhance its quality, and finally send it to my email.', 'selected_apis': [{'name': 'tti_Digital_Art', 'parameters': ['prompt']}, {'name': 'tti_Futuristic_Art', 'parameters': ['prompt']}, {'name': 'image_to_pdf_conversion', 'parameters': ['image_file']}, {'name': 'Image_Resizing', 'parameters': ['image_file', 'width', 'height']}, {'name': 'Image_Enhancement', 'parameters': ['image_file']}, {'name': 'send_email', 'parameters': ['sender_email', 'receiver_email', 'message_content', 'subject_line', 'file']}]}, {'id': 2, 'user_request': \"I need a sketch of a medieval castle surrounded by a dense forest. After generating the sketch, convert it to a PDF, resize it to 1280x720 pixels, enhance the image quality, and send it to my colleague's email.\", 'selected_apis': [{'name': 'tti_Sketching_Art', 'parameters': ['prompt']}, {'name': 'image_to_pdf_conversion', 'parameters': ['image_file']}, {'name': 'Image_Resizing', 'parameters': ['image_file', 'width', 'height']}, {'name': 'Image_Enhancement', 'parameters': ['image_file']}, {'name': 'send_email', 'parameters': ['sender_email', 'receiver_email', 'message_content', 'subject_line', 'file']}]}, {'id': 3, 'user_request': \"Create a pastel art image of a serene beach at sunset with palm trees. Convert this image to a PDF, resize it to 1024x768 pixels, enhance its quality, and send it to my friend's email.\", 'selected_apis': [{'name': 'tti_Pastel_Art', 'parameters': ['prompt']}, {'name': 'image_to_pdf_conversion', 'parameters': ['image_file']}, {'name': 'Image_Resizing', 'parameters': ['image_file', 'width', 'height']}, {'name': 'Image_Enhancement', 'parameters': ['image_file']}, {'name': 'send_email', 'parameters': ['sender_email', 'receiver_email', 'message_content', 'subject_line', 'file']}]}]}]\n",
      "3\n"
     ]
    }
   ],
   "source": [
    "SYSTEM_PROMPT = '''\n",
    "    Let's think step by step. You will be given list of API information.\n",
    "    Please generate 3 user request that is going to use exactly 5 APIs, and extract the user request, selected APIs, and each required parameter for those selected APIs.\n",
    "    Make sure the user request is very specific in details as if what's kind of image you want to generat and etc.\n",
    "    '''\n",
    "USER_PROMPT = f\"\"\"\n",
    "        API_information: {extracted_data}\n",
    "    \"\"\"\n",
    "\n",
    "response = call_llm(TestData, \"TestData\" ,escape_json(SYSTEM_PROMPT), escape_json(USER_PROMPT))\n",
    "inter_list.append(response)\n",
    "print(inter_list)\n",
    "print(len(inter_list))"
   ]
  },
  {
   "cell_type": "code",
   "execution_count": 39,
   "metadata": {},
   "outputs": [],
   "source": [
    "inter_list = {\"test_data\": inter_list}\n",
    "with open('./test_queries/query_answer_3-5_nodes.json', 'w') as json_file:\n",
    "    json.dump(inter_list, json_file, indent=4)"
   ]
  },
  {
   "cell_type": "code",
   "execution_count": null,
   "metadata": {},
   "outputs": [],
   "source": []
  },
  {
   "cell_type": "markdown",
   "metadata": {},
   "source": [
    "## Generate 6-10 Nodes Hard Date"
   ]
  },
  {
   "cell_type": "code",
   "execution_count": 36,
   "metadata": {},
   "outputs": [],
   "source": [
    "# 6-10 nodes\n",
    "\n",
    "\n",
    "inter_list = []"
   ]
  },
  {
   "cell_type": "markdown",
   "metadata": {},
   "source": [
    "### 6 nodes"
   ]
  },
  {
   "cell_type": "code",
   "execution_count": 37,
   "metadata": {},
   "outputs": [
    {
     "name": "stdout",
     "output_type": "stream",
     "text": [
      "[{'id': 1, 'user_request': 'I am creating a digital art gallery that showcases different art styles of a single subject. First, I need a digital art image of a serene mountain landscape during sunrise. Next, I want a pastel art image of the same mountain landscape but during sunset. Then, I need a sketching art image of the mountain landscape at night with a starry sky. After generating these images, I need the digital art image to be resized to 1920x1080 pixels and enhanced for better quality. Finally, I want all three images combined into a single PDF for presentation purposes. Please email the final PDF to my client for review.', 'selected_apis': [{'name': 'tti_Digital_Art', 'parameters': ['prompt']}, {'name': 'tti_Pastel_Art', 'parameters': ['prompt']}, {'name': 'tti_Sketching_Art', 'parameters': ['prompt']}, {'name': 'Image_Resizing', 'parameters': ['image_file', 'width', 'height']}, {'name': 'Image_Enhancement', 'parameters': ['image_file']}, {'name': 'image_to_pdf_conversion', 'parameters': ['image_files']}, {'name': 'send_email', 'parameters': ['sender_email', 'receiver_email', 'subject', 'message', 'attachment']}]}, {'id': 2, 'user_request': 'I am working on a project that explores the evolution of urban art. First, I need a graffiti art image of a bustling city street with vibrant colors and street performers. Next, I want a mosaic art image of the same city street but in a more abstract form. Then, I need a ukiyo-e art image of the city street with traditional Japanese elements. After generating these images, I need the graffiti art image to be resized to 1080x720 pixels and enhanced for better quality. Finally, I want all three images combined into a single PDF for documentation purposes. Please email the final PDF to my project supervisor.', 'selected_apis': [{'name': 'tti_Graffiti_Art', 'parameters': ['prompt']}, {'name': 'tti_Mosaic_Art', 'parameters': ['prompt']}, {'name': 'tti_Ukiyo-e_Art', 'parameters': ['prompt']}, {'name': 'Image_Resizing', 'parameters': ['image_file', 'width', 'height']}, {'name': 'Image_Enhancement', 'parameters': ['image_file']}, {'name': 'image_to_pdf_conversion', 'parameters': ['image_files']}, {'name': 'send_email', 'parameters': ['sender_email', 'receiver_email', 'subject', 'message', 'attachment']}]}]\n",
      "2\n"
     ]
    }
   ],
   "source": [
    "SYSTEM_PROMPT = '''\n",
    "    Let's think step by step. You will be given list of API information.\n",
    "    Please generate 2 user request that is going to use exactly 6 APIs, and extract the user request, selected APIs, and each required parameter for those selected APIs.\n",
    "    Make sure the user request is very specific in details as if what's kind of image you want to generat and etc.\n",
    "    \n",
    "    This is just an example but learn from it and be creative to make request:\n",
    "    \"I am preparing a multi-media portfolio for a project that showcases urban evolution and different art styles. First, I need a futuristic animation-style image representing a city skyline of 2080 with flying vehicles and skyscrapers. For the second part, I want a charcoal-style artwork showing an old, historic part of the same city, possibly including narrow streets and ancient architecture. After generating these images, I need the futuristic animation image to be resized and enhanced for better quality. Finally, I want both the futuristic and charcoal images combined into a single PDF, along with their descriptions. Please email the final PDF to my professor for review.\"\n",
    "    '''\n",
    "USER_PROMPT = f\"\"\"\n",
    "        API_information: {extracted_data}\n",
    "    \"\"\"\n",
    "\n",
    "response = call_llm(TestData, \"TestData\" ,escape_json(SYSTEM_PROMPT), escape_json(USER_PROMPT))\n",
    "inter_list.extend(response['test_data'])\n",
    "print(response['test_data'])\n",
    "print(len(inter_list))"
   ]
  },
  {
   "cell_type": "markdown",
   "metadata": {},
   "source": [
    "### 7nodes"
   ]
  },
  {
   "cell_type": "code",
   "execution_count": 38,
   "metadata": {},
   "outputs": [
    {
     "name": "stdout",
     "output_type": "stream",
     "text": [
      "[{'id': 1, 'user_request': 'I am creating a digital art gallery that showcases different art styles of a single subject, a serene mountain landscape. First, I need to generate five images of the mountain landscape in different art styles: digital art, pastel art, ukiyo-e art, graffiti art, and mosaic art. After that, I want to enhance the quality of the digital art image, resize it to 1920x1080 pixels, and convert it to a PNG format. Finally, I need all five images combined into a single PDF document and emailed to my art curator for review.', 'selected_apis': [{'name': 'tti_Digital_Art', 'parameters': ['prompt']}, {'name': 'tti_Pastel_Art', 'parameters': ['prompt']}, {'name': 'tti_Ukiyo-e_Art', 'parameters': ['prompt']}, {'name': 'tti_Graffiti_Art', 'parameters': ['prompt']}, {'name': 'tti_Mosaic_Art', 'parameters': ['prompt']}, {'name': 'Image_Enhancement', 'parameters': ['image_file']}, {'name': 'Image_Resizing', 'parameters': ['image_file', 'width', 'height']}, {'name': 'image_format_converter', 'parameters': ['image_file', 'output_format']}, {'name': 'image_to_pdf_conversion', 'parameters': ['image_files']}, {'name': 'send_email', 'parameters': ['sender_email', 'receiver_email', 'subject', 'message', 'file']}]}, {'id': 2, 'user_request': 'I am working on a project that involves creating a visual timeline of technological advancements. I need to generate three images: one depicting the early 1900s in a sketching art style, another showing the 1950s in a charcoal art style, and the last one representing the 2020s in a futuristic art style. After generating these images, I want to enhance the quality of the futuristic art image, resize it to 1080x1080 pixels, and convert it to a JPEG format. Finally, I need all three images combined into a single PDF document and emailed to my project supervisor.', 'selected_apis': [{'name': 'tti_Sketching_Art', 'parameters': ['prompt']}, {'name': 'tti_Charcoal_Art', 'parameters': ['prompt']}, {'name': 'tti_Futuristic_Art', 'parameters': ['prompt']}, {'name': 'Image_Enhancement', 'parameters': ['image_file']}, {'name': 'Image_Resizing', 'parameters': ['image_file', 'width', 'height']}, {'name': 'image_format_converter', 'parameters': ['image_file', 'output_format']}, {'name': 'image_to_pdf_conversion', 'parameters': ['image_files']}, {'name': 'send_email', 'parameters': ['sender_email', 'receiver_email', 'subject', 'message', 'file']}]}]\n",
      "4\n"
     ]
    }
   ],
   "source": [
    "SYSTEM_PROMPT = '''\n",
    "    Let's think step by step. You will be given list of API information.\n",
    "    Please generate 2 user request that is going to use exactly 7 APIs, and extract the user request, selected APIs, and each required parameter for those selected APIs.\n",
    "    Make sure the user request is very specific in details as if what's kind of image you want to generat and etc.\n",
    "    \n",
    "    This is just an example but learn from it and be creative to make request:\n",
    "    \"I’m working on a multi-media portfolio for a project that reflects the contrast between future and past cityscapes. First, I need to generate two images: one should be a futuristic animation of a city skyline in the year 2080 with neon lights and flying cars, and the second image should depict the same city but in a charcoal art style, focusing on its historic and ancient parts. After that, I want the futuristic animation image to be enhanced for quality, resized to fit specific dimensions, and converted to a new format. Then, I want both images combined into a single PDF document. Finally, I need the PDF to be emailed to my professor for review.\"\n",
    "    '''\n",
    "USER_PROMPT = f\"\"\"\n",
    "        API_information: {extracted_data}\n",
    "    \"\"\"\n",
    "\n",
    "response = call_llm(TestData, \"TestData\" ,escape_json(SYSTEM_PROMPT), escape_json(USER_PROMPT))\n",
    "inter_list.extend(response['test_data'])\n",
    "print(response['test_data'])\n",
    "print(len(inter_list))"
   ]
  },
  {
   "cell_type": "markdown",
   "metadata": {},
   "source": [
    "### 8 nodes"
   ]
  },
  {
   "cell_type": "code",
   "execution_count": 39,
   "metadata": {},
   "outputs": [
    {
     "name": "stdout",
     "output_type": "stream",
     "text": [
      "[{'id': 1, 'user_request': 'I am working on a project that involves creating a series of images depicting a futuristic city in various art styles. First, I need to generate four images: one in animation style, one in digital art style, one in graffiti art style, and one in mosaic art style. After generating these images, I want the digital art image to be enhanced and resized. Then, I need all four images to be converted into a single PDF file. Finally, I want this PDF to be password-protected and emailed to my project supervisor for feedback.', 'selected_apis': [{'name': 'tti_Animation_Art', 'parameters': ['user prompt']}, {'name': 'tti_Digital_Art', 'parameters': ['user prompt']}, {'name': 'tti_Graffiti_Art', 'parameters': ['user prompt']}, {'name': 'tti_Mosaic_Art', 'parameters': ['user prompt']}, {'name': 'Image_Enhancement', 'parameters': ['image file']}, {'name': 'Image_Resizing', 'parameters': ['image file', 'width', 'height']}, {'name': 'image_to_pdf_conversion', 'parameters': ['image files']}, {'name': 'send_email', 'parameters': [\"sender's email address\", \"receiver's email address\", 'message content', 'subject line', 'file']}]}, {'id': 2, 'user_request': 'I am creating a digital art book that showcases different historical periods through various art styles. First, I need to generate four images: one in charcoal art style depicting the Renaissance period, one in pastel art style depicting the Baroque period, one in painting art style depicting the Victorian era, and one in ukiyo-e art style depicting the Edo period. After generating these images, I want the charcoal art image to be enhanced and resized. Then, I need all four images to be converted into a single PDF file. Finally, I want this PDF to be password-protected and uploaded to my cloud storage for safekeeping.', 'selected_apis': [{'name': 'tti_Charcoal_Art', 'parameters': ['user prompt']}, {'name': 'tti_Pastel_Art', 'parameters': ['user prompt']}, {'name': 'tti_Painting_Art', 'parameters': ['user prompt']}, {'name': 'tti_Ukiyo-e_Art', 'parameters': ['user prompt']}, {'name': 'Image_Enhancement', 'parameters': ['image file']}, {'name': 'Image_Resizing', 'parameters': ['image file', 'width', 'height']}, {'name': 'image_to_pdf_conversion', 'parameters': ['image files']}, {'name': 'send_email', 'parameters': [\"sender's email address\", \"receiver's email address\", 'message content', 'subject line', 'file']}]}]\n",
      "6\n"
     ]
    }
   ],
   "source": [
    "SYSTEM_PROMPT = '''\n",
    "    Let's think step by step. You will be given list of API information.\n",
    "    Please generate 2 user request that is going to use exactly 8 APIs, and extract the user request, selected APIs, and each required parameter for those selected APIs.\n",
    "    Make sure the user request is very specific in details as if what's kind of image you want to generat and etc.\n",
    "    \n",
    "    This is just an example but learn from it and be creative to make request:\n",
    "    I’m creating a multi-media portfolio that contrasts futuristic and historical cityscapes. First, I need to generate two images: one should be a futuristic city skyline for the year 2080 in an animation style, and the second should depict the historic parts of the same city but rendered in a charcoal art style. After generating these images, I want the futuristic animation image to be enhanced, resized, and converted to a new format. Then, I need both images combined into a single PDF with descriptions. Finally, I want this PDF to be password-protected and emailed to my professor for review.\n",
    "    '''\n",
    "USER_PROMPT = f\"\"\"\n",
    "        API_information: {extracted_data}\n",
    "    \"\"\"\n",
    "\n",
    "response = call_llm(TestData, \"TestData\" ,escape_json(SYSTEM_PROMPT), escape_json(USER_PROMPT))\n",
    "inter_list.extend(response['test_data'])\n",
    "print(response['test_data'])\n",
    "print(len(inter_list))"
   ]
  },
  {
   "cell_type": "markdown",
   "metadata": {},
   "source": [
    "### 9 nodes"
   ]
  },
  {
   "cell_type": "code",
   "execution_count": 40,
   "metadata": {},
   "outputs": [
    {
     "name": "stdout",
     "output_type": "stream",
     "text": [
      "[{'id': 1, 'user_request': 'I am creating a digital art gallery showcasing different art styles of a single subject, a modern cityscape. First, I need five different images: one in animation style, one in charcoal style, one in digital art style, one in futuristic art style, and one in graffiti art style. After generating these images, I want the digital art image to be enhanced and resized. Finally, I need all five images combined into a single PDF with descriptions for each image, and this PDF should be emailed to my art professor for feedback.', 'selected_apis': [{'name': 'tti_Animation_Art', 'parameters': ['prompt']}, {'name': 'tti_Charcoal_Art', 'parameters': ['prompt']}, {'name': 'tti_Digital_Art', 'parameters': ['prompt']}, {'name': 'tti_Futuristic_Art', 'parameters': ['prompt']}, {'name': 'tti_Graffiti_Art', 'parameters': ['prompt']}, {'name': 'Image_Enhancement', 'parameters': ['image_file']}, {'name': 'Image_Resizing', 'parameters': ['image_file', 'width', 'height']}, {'name': 'image_to_pdf_conversion', 'parameters': ['image_files']}, {'name': 'send_email', 'parameters': ['sender_email', 'receiver_email', 'subject', 'message', 'file']}]}, {'id': 2, 'user_request': 'I am working on a project that involves creating a visual timeline of a historical event. I need four images: one in mosaic art style, one in painting art style, one in pastel art style, and one in sketching art style. After generating these images, I want the sketching art image to be converted to a different format. Finally, I need all four images combined into a single PDF with captions for each image, and this PDF should be emailed to my history professor for review.', 'selected_apis': [{'name': 'tti_Mosaic_Art', 'parameters': ['prompt']}, {'name': 'tti_Painting_Art', 'parameters': ['prompt']}, {'name': 'tti_Pastel_Art', 'parameters': ['prompt']}, {'name': 'tti_Sketching_Art', 'parameters': ['prompt']}, {'name': 'image_format_converter', 'parameters': ['image_file', 'output_format']}, {'name': 'image_to_pdf_conversion', 'parameters': ['image_files']}, {'name': 'send_email', 'parameters': ['sender_email', 'receiver_email', 'subject', 'message', 'file']}]}, {'id': 3, 'user_request': 'I am creating a digital art gallery showcasing different art styles of a single subject, a modern cityscape. First, I need five different images: one in animation style, one in charcoal style, one in digital art style, one in futuristic art style, and one in graffiti art style. After generating these images, I want the digital art image to be enhanced and resized. Finally, I need all five images combined into a single PDF with descriptions for each image, and this PDF should be emailed to my art professor for feedback.', 'selected_apis': [{'name': 'tti_Animation_Art', 'parameters': ['prompt']}, {'name': 'tti_Charcoal_Art', 'parameters': ['prompt']}, {'name': 'tti_Digital_Art', 'parameters': ['prompt']}, {'name': 'tti_Futuristic_Art', 'parameters': ['prompt']}, {'name': 'tti_Graffiti_Art', 'parameters': ['prompt']}, {'name': 'Image_Enhancement', 'parameters': ['image_file']}, {'name': 'Image_Resizing', 'parameters': ['image_file', 'width', 'height']}, {'name': 'image_to_pdf_conversion', 'parameters': ['image_files']}, {'name': 'send_email', 'parameters': ['sender_email', 'receiver_email', 'subject', 'message', 'file']}]}, {'id': 4, 'user_request': 'I am working on a project that involves creating a visual timeline of a historical event. I need four images: one in mosaic art style, one in painting art style, one in pastel art style, and one in sketching art style. After generating these images, I want the sketching art image to be converted to a different format. Finally, I need all four images combined into a single PDF with captions for each image, and this PDF should be emailed to my history professor for review.', 'selected_apis': [{'name': 'tti_Mosaic_Art', 'parameters': ['prompt']}, {'name': 'tti_Painting_Art', 'parameters': ['prompt']}, {'name': 'tti_Pastel_Art', 'parameters': ['prompt']}, {'name': 'tti_Sketching_Art', 'parameters': ['prompt']}, {'name': 'image_format_converter', 'parameters': ['image_file', 'output_format']}, {'name': 'image_to_pdf_conversion', 'parameters': ['image_files']}, {'name': 'send_email', 'parameters': ['sender_email', 'receiver_email', 'subject', 'message', 'file']}]}]\n",
      "10\n"
     ]
    }
   ],
   "source": [
    "SYSTEM_PROMPT = '''\n",
    "    Let's think step by step. You will be given list of API information.\n",
    "    Please generate 2 user request that is going to use exactly 9 APIs, and extract the user request, selected APIs, and each required parameter for those selected APIs.\n",
    "    Make sure the user request is very specific in details as if what's kind of image you want to generat and etc.\n",
    "\n",
    "    This is just an example but learn from it and be creative to make request:\n",
    "    I’m developing a multi-media portfolio that contrasts the future and the past of urban landscapes. First, I need three different images: one should be a futuristic city skyline for the year 2080 in an animation style, the second should depict the historic parts of the same city in charcoal style, and the third should be a digital art image representing the city's present-day state. After generating these images, I want the futuristic image to be enhanced and resized, and the present-day digital art image converted to a different format. Next, I need all three images combined into a single password-protected PDF with descriptions for each image. Finally, I want this PDF to be emailed to my professor for review.\n",
    "    '''\n",
    "USER_PROMPT = f\"\"\"\n",
    "        API_information: {extracted_data}\n",
    "    \"\"\"\n",
    "\n",
    "response = call_llm(TestData, \"TestData\" ,escape_json(SYSTEM_PROMPT), escape_json(USER_PROMPT))\n",
    "inter_list.extend(response['test_data'])\n",
    "print(response['test_data'])\n",
    "print(len(inter_list))"
   ]
  },
  {
   "cell_type": "markdown",
   "metadata": {},
   "source": [
    "### 10 nodes"
   ]
  },
  {
   "cell_type": "code",
   "execution_count": 41,
   "metadata": {},
   "outputs": [
    {
     "name": "stdout",
     "output_type": "stream",
     "text": [
      "[{'id': 1, 'user_request': \"I'm creating a digital art project that showcases different art styles of a single subject, a serene mountain landscape. I need images in the following styles: (1) a vibrant animation style, (2) a detailed charcoal art style, (3) a modern digital art style, (4) a futuristic art style, (5) a graffiti art style, (6) a mosaic art style, (7) a classic painting art style, (8) a soft pastel art style, (9) a sketching art style, and (10) a traditional Japanese ukiyo-e art style. After generating these images, I want them all combined into a single PDF file for presentation purposes.\", 'selected_apis': [{'name': 'tti_Animation_Art', 'parameters': ['prompt']}, {'name': 'tti_Charcoal_Art', 'parameters': ['prompt']}, {'name': 'tti_Digital_Art', 'parameters': ['prompt']}, {'name': 'tti_Futuristic_Art', 'parameters': ['prompt']}, {'name': 'tti_Graffiti_Art', 'parameters': ['prompt']}, {'name': 'tti_Mosaic_Art', 'parameters': ['prompt']}, {'name': 'tti_Painting_Art', 'parameters': ['prompt']}, {'name': 'tti_Pastel_Art', 'parameters': ['prompt']}, {'name': 'tti_Sketching_Art', 'parameters': ['prompt']}, {'name': 'tti_Ukiyo-e_Art', 'parameters': ['prompt']}, {'name': 'image_to_pdf_conversion', 'parameters': ['image_files']}]}, {'id': 2, 'user_request': \"I'm working on a historical art exhibit and need to create a series of images depicting a bustling medieval marketplace. I need images in the following styles: (1) a vibrant animation style, (2) a detailed charcoal art style, (3) a modern digital art style, (4) a futuristic art style, (5) a graffiti art style, (6) a mosaic art style, (7) a classic painting art style, (8) a soft pastel art style, (9) a sketching art style, and (10) a traditional Japanese ukiyo-e art style. After generating these images, I want them all enhanced for better quality and then combined into a single PDF file for the exhibit.\", 'selected_apis': [{'name': 'tti_Animation_Art', 'parameters': ['prompt']}, {'name': 'tti_Charcoal_Art', 'parameters': ['prompt']}, {'name': 'tti_Digital_Art', 'parameters': ['prompt']}, {'name': 'tti_Futuristic_Art', 'parameters': ['prompt']}, {'name': 'tti_Graffiti_Art', 'parameters': ['prompt']}, {'name': 'tti_Mosaic_Art', 'parameters': ['prompt']}, {'name': 'tti_Painting_Art', 'parameters': ['prompt']}, {'name': 'tti_Pastel_Art', 'parameters': ['prompt']}, {'name': 'tti_Sketching_Art', 'parameters': ['prompt']}, {'name': 'tti_Ukiyo-e_Art', 'parameters': ['prompt']}, {'name': 'Image_Enhancement', 'parameters': ['image_file']}, {'name': 'image_to_pdf_conversion', 'parameters': ['image_files']}]}]\n",
      "12\n"
     ]
    }
   ],
   "source": [
    "SYSTEM_PROMPT = '''\n",
    "    Let's think step by step. You will be given list of API information.\n",
    "    Please generate 2 user request that is going to use exactly 10 APIs, and extract the user request, selected APIs, and each required parameter for those selected APIs.\n",
    "    Make sure the user request is very specific in details as if what's kind of image you want to generat and etc.\n",
    "    \n",
    "    This is just an example but learn from it and be creative to make request:\n",
    "    I'm working on a multi-media portfolio that explores the evolution of a city across four distinct eras. I need four images, each representing a different time period: (1) a futuristic city in 2080 in animation style, (2) the historic parts of the same city in charcoal style, (3) a present-day cityscape in digital art, and (4) an artistic pastel-style representation of the city during the early 1900s. After generating these images, I want the futuristic and pastel images to be enhanced and resized to match specific dimensions. Then, I need all four images combined into a single password-protected PDF with descriptions for each image. Finally, the PDF should be emailed to my professor for review.\n",
    "    '''\n",
    "USER_PROMPT = f\"\"\"\n",
    "        API_information: {extracted_data}\n",
    "    \"\"\"\n",
    "\n",
    "response = call_llm(TestData, \"TestData\" ,escape_json(SYSTEM_PROMPT), escape_json(USER_PROMPT))\n",
    "inter_list.extend(response['test_data'])\n",
    "print(response['test_data'])\n",
    "print(len(inter_list))"
   ]
  },
  {
   "cell_type": "code",
   "execution_count": 42,
   "metadata": {},
   "outputs": [],
   "source": [
    "inter_list = {\"test_data\": inter_list}\n",
    "with open('./test_queries/query_answer_6-10_nodes.json', 'w') as json_file:\n",
    "    json.dump(inter_list, json_file, indent=4)"
   ]
  },
  {
   "cell_type": "code",
   "execution_count": null,
   "metadata": {},
   "outputs": [],
   "source": []
  },
  {
   "cell_type": "code",
   "execution_count": null,
   "metadata": {},
   "outputs": [],
   "source": []
  }
 ],
 "metadata": {
  "kernelspec": {
   "display_name": "ml",
   "language": "python",
   "name": "python3"
  },
  "language_info": {
   "codemirror_mode": {
    "name": "ipython",
    "version": 3
   },
   "file_extension": ".py",
   "mimetype": "text/x-python",
   "name": "python",
   "nbconvert_exporter": "python",
   "pygments_lexer": "ipython3",
   "version": "3.10.14"
  }
 },
 "nbformat": 4,
 "nbformat_minor": 2
}
